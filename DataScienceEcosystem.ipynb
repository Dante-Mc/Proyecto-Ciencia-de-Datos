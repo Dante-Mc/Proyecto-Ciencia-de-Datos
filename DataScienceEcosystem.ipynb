{
  "cells": [
    {
      "cell_type": "markdown",
      "metadata": {
        "id": "9c5e64dc-2bc7-4640-9b71-877eda7b6100"
      },
      "source": [
        "<center>\n",
        "    <img src=\"https://cf-courses-data.s3.us.cloud-object-storage.appdomain.cloud/IBMDeveloperSkillsNetwork-DS0105EN-SkillsNetwork/labs/Module2/images/SN_web_lightmode.png\" width=\"300\" alt=\"cognitiveclass.ai logo\">\n",
        "</center>\n"
      ]
    },
    {
      "cell_type": "markdown",
      "metadata": {
        "id": "bca0d27a-24c6-4c43-b116-c73c8d9ab219"
      },
      "source": [
        "# Hands-on Lab: Create your Jupyter Notebook\n"
      ]
    },
    {
      "cell_type": "markdown",
      "metadata": {
        "id": "8b126e2f-912e-42e0-8d57-43862ac465fc"
      },
      "source": [
        "#### Add your code below following the instructions given in the course\n"
      ]
    },
    {
      "cell_type": "markdown",
      "source": [
        "**Exercise 2**\n",
        "\n",
        "#Data Science Tools and Ecosystem"
      ],
      "metadata": {
        "id": "lkAn2-tCY88D"
      }
    },
    {
      "cell_type": "markdown",
      "source": [
        "**Exercise 3**\n",
        "\n",
        "This notebook contains the final activity of the “Tools for Data Science” course, in which I will apply what I have learned.\n"
      ],
      "metadata": {
        "id": "LiwxsYixZ4KJ"
      }
    },
    {
      "cell_type": "markdown",
      "source": [
        "**Objetives:**\n",
        "- Popular languages for Data Science\n",
        "- Some of the commonly used libraries used by Data Scientists\n",
        "- Tools for data science\n",
        "- Mathematical calculations\n",
        "- Formats for text and tables in Markdown cells\n"
      ],
      "metadata": {
        "id": "dPQIIU6Th2y3"
      }
    },
    {
      "cell_type": "markdown",
      "source": [
        "**Exercise 4**\n",
        "\n",
        "Some of the popular languages that Data Scientists use are:\n",
        "1. Python\n",
        "2. R\n",
        "3. SQL\n",
        "4. Scala\n",
        "5. C++\n"
      ],
      "metadata": {
        "id": "uuIgYX4oa_N4"
      }
    },
    {
      "cell_type": "markdown",
      "source": [
        "**Exercise 5**\n",
        "\n",
        "Some of the commonly used libraries used by Data Scientists include:\n",
        "\n",
        "1. Pandas\n",
        "2. Numpy\n",
        "3. Matplotlib\n",
        "4. Seaborn\n",
        "5. Scikit-Learn\n"
      ],
      "metadata": {
        "id": "mNn8gwbkb0S4"
      }
    },
    {
      "cell_type": "markdown",
      "source": [
        "**Exercise 6**  \n",
        "\n",
        "|Data Science Tools|  \n",
        "|------------------|  \n",
        "|Jupyter Notebooks|\n",
        "|Apache Spark|\n",
        "|Git|\n",
        "  "
      ],
      "metadata": {
        "id": "b-hrcdWAcdT0"
      }
    },
    {
      "cell_type": "markdown",
      "source": [
        "**Exercise 7**\n",
        "\n",
        "###Below are a few examples of evaluating arithmetic expressions in Python:\n",
        "\n",
        "-2+5\n",
        "\n",
        "(120+5)*2\n",
        "\n",
        "150/3\n",
        "\n"
      ],
      "metadata": {
        "id": "H63jAaqEfAMv"
      }
    },
    {
      "cell_type": "markdown",
      "source": [
        "**Exercise 8**"
      ],
      "metadata": {
        "id": "o18lZw9Vfsth"
      }
    },
    {
      "cell_type": "code",
      "source": [
        "#This a simple arithmetic expression to mutiply then add integers\n",
        "(3*4)+5"
      ],
      "metadata": {
        "colab": {
          "base_uri": "https://localhost:8080/"
        },
        "id": "1tnxYyWGfqcx",
        "outputId": "2550dccb-1478-493c-8a04-0eaacb440301"
      },
      "execution_count": 2,
      "outputs": [
        {
          "output_type": "execute_result",
          "data": {
            "text/plain": [
              "17"
            ]
          },
          "metadata": {},
          "execution_count": 2
        }
      ]
    },
    {
      "cell_type": "markdown",
      "source": [
        "**Exercise 9**"
      ],
      "metadata": {
        "id": "uicPXNbggGS_"
      }
    },
    {
      "cell_type": "code",
      "source": [
        "#It will show how many hours are equivalent to 200 minutes.\n",
        "x = 200 #minutes\n",
        "y = x/60 #hours\n",
        "print(y, \"Hours\")"
      ],
      "metadata": {
        "colab": {
          "base_uri": "https://localhost:8080/"
        },
        "id": "Gh4z-Ni0gIjt",
        "outputId": "c353cd4d-7e79-4706-9a48-916656689654"
      },
      "execution_count": 4,
      "outputs": [
        {
          "output_type": "stream",
          "name": "stdout",
          "text": [
            "3.3333333333333335 Hours\n"
          ]
        }
      ]
    },
    {
      "cell_type": "markdown",
      "source": [
        "**Exercise 11**\n",
        "\n",
        "## Author\n",
        "\n",
        "Dante Markovic C."
      ],
      "metadata": {
        "id": "e8UB4I0zg1d2"
      }
    },
    {
      "cell_type": "markdown",
      "metadata": {
        "id": "b5f467ed-efe7-45ac-a08b-b2d48c26ba81"
      },
      "source": [
        "Copyright ©2024 IBM Corporation. All rights reserved.\n"
      ]
    }
  ],
  "metadata": {
    "kernelspec": {
      "display_name": "Python",
      "language": "python",
      "name": "conda-env-python-py"
    },
    "language_info": {
      "name": "python",
      "version": "3.7.12",
      "mimetype": "text/x-python",
      "codemirror_mode": {
        "name": "ipython",
        "version": 3
      },
      "pygments_lexer": "ipython3",
      "nbconvert_exporter": "python",
      "file_extension": ".py"
    },
    "prev_pub_hash": "9e1985db9844176462bd1d5863048c9f3d17404bbc6a648be9084b0c42b29347",
    "colab": {
      "provenance": []
    }
  },
  "nbformat": 4,
  "nbformat_minor": 0
}